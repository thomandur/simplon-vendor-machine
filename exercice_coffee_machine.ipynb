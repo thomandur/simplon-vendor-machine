{
 "cells": [
  {
   "cell_type": "markdown",
   "id": "271f13a1",
   "metadata": {},
   "source": [
    "<h1 style=\"text-align: center\">\n",
    "    Concevoir un logiciel de distributeur de cannette. \n",
    "</h1>\n",
    "\n",
    "\n",
    "**Le distributeur**\n",
    "* Le distributeur contient 100 cannettes.\n",
    "* Le distributeur contient 11,50 €.\n",
    "* Une cannette vaut 1,50 €.\n",
    "\n",
    "<hr>\n",
    "\n",
    "**Le consommateur**\n",
    "* Un consommateur peut acheter une cannette. Le stock diminue de 1. La trésorerie est également modifiée.\n",
    "* Le distributeur peut rendre la monnaie.\n",
    "\n",
    "<hr>\n",
    "\n",
    "**Le technicien**\n",
    "* Le technicien doit s’authentifier.\n",
    "* Le technicien peut afficher l’état du stock et de la trésorerie.\n",
    "* Le technicien peut ajouter des cannettes.\n",
    "* Le technicien peut vider la caisse.\n",
    "\n",
    "==> Persister la donnée dans un `csv` par exemple, et remodifier le code déjà effectué pour gérer la mécanique de sérialisation et de deserialisation :\n",
    "\n",
    "<img src=\"images/serialisation.png\" alt=\"schema sur la sérialisation et déserialisation\">"
   ]
  },
  {
   "cell_type": "code",
   "execution_count": 1,
   "id": "34ce11cf",
   "metadata": {},
   "outputs": [
    {
     "name": "stdout",
     "output_type": "stream",
     "text": [
      "100 cans, 11.5$ change, 1 can = 1.5$\n"
     ]
    }
   ],
   "source": [
    "class Distributeur():\n",
    "\n",
    "    def __init__(self, can_count = 100, can_price = 1.5, change = 11.5):\n",
    "        self.can_count = can_count\n",
    "        self.can_price = can_price\n",
    "        self.change = change\n",
    "        print(f'{self.can_count} cans, {self.change}$ change, 1 can = {self.can_price}$')\n",
    "\n",
    "    def __str__(self):\n",
    "        return f'{self.can_count} cans, {self.change}$ change, 1 can = {self.can_price}$'\n",
    "\n",
    "    def order_can(self, money = 1.5):\n",
    "        if self.can_count > 0:\n",
    "            self.can_count -= 1\n",
    "            self.change += self.can_price\n",
    "            print('Tien une petite canouche')\n",
    "        else:\n",
    "            print('No more cans in the vendor machine')\n",
    "        \n",
    "        return self.can_count\n",
    "\n",
    "    def add_cans(self, amount):\n",
    "        self.can_count += amount\n",
    "    \n",
    "\n",
    "d = Distributeur()"
   ]
  },
  {
   "cell_type": "code",
   "execution_count": 2,
   "id": "b87e4bcd",
   "metadata": {},
   "outputs": [
    {
     "name": "stdout",
     "output_type": "stream",
     "text": [
      "Tien une petite canouche\n"
     ]
    },
    {
     "data": {
      "text/plain": [
       "99"
      ]
     },
     "execution_count": 2,
     "metadata": {},
     "output_type": "execute_result"
    }
   ],
   "source": [
    "d.order_can()"
   ]
  },
  {
   "cell_type": "code",
   "execution_count": 256,
   "id": "c4344c67",
   "metadata": {},
   "outputs": [],
   "source": [
    "class Technicien(Distributeur):\n",
    "    \n",
    "    auth = False\n",
    "    \n",
    "    def __init__(self):\n",
    "        super().__init__()\n",
    "        "
   ]
  },
  {
   "cell_type": "code",
   "execution_count": 294,
   "id": "b0843896",
   "metadata": {},
   "outputs": [],
   "source": [
    "class Customer():\n",
    "    \n",
    "    def __init__(self):\n",
    "        pass\n",
    "\n",
    "    def buy_can(self):\n",
    "        Distributeur.can_order(self)\n",
    "\n",
    "c = Customer()"
   ]
  },
  {
   "cell_type": "code",
   "execution_count": 295,
   "id": "b7a91329",
   "metadata": {},
   "outputs": [
    {
     "name": "stdout",
     "output_type": "stream",
     "text": [
      "100 cans, 11.5$\n",
      "99 cans, 13.0$\n"
     ]
    }
   ],
   "source": [
    "c.buy_can()"
   ]
  }
 ],
 "metadata": {
  "hide_input": false,
  "kernelspec": {
   "display_name": "Python 3.8.12 64-bit ('shims')",
   "language": "python",
   "name": "python3"
  },
  "language_info": {
   "codemirror_mode": {
    "name": "ipython",
    "version": 3
   },
   "file_extension": ".py",
   "mimetype": "text/x-python",
   "name": "python",
   "nbconvert_exporter": "python",
   "pygments_lexer": "ipython3",
   "version": "3.8.12"
  },
  "vscode": {
   "interpreter": {
    "hash": "e588d92b224e11b16adbbadd39936dea13a6488171770263a646fc57f44563d8"
   }
  }
 },
 "nbformat": 4,
 "nbformat_minor": 5
}
